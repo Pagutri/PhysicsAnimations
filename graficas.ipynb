{
 "cells": [
  {
   "cell_type": "code",
   "execution_count": 20,
   "metadata": {
    "collapsed": false
   },
   "outputs": [],
   "source": [
    "#encoding utf=8\n",
    "import matplotlib.pyplot as plt\n",
    "import matplotlib.image as mpimg\n",
    "import imageio\n",
    "import os\n",
    "import pylab\n",
    "import numpy as np\n",
    "\n",
    "n = 29 # Número de iteraciones del programa \n",
    "\n",
    "# Crear imágenes con las placas\n",
    "for i in range(n):\n",
    "    data_img=np.loadtxt(str(i)+'.txt')\n",
    "    plt.gcf().clear()\n",
    "    plt.imshow(data_img)\n",
    "    plt.colorbar()\n",
    "    plt.savefig(str(i)+'.png')"
   ]
  },
  {
   "cell_type": "code",
   "execution_count": 21,
   "metadata": {
    "collapsed": false,
    "scrolled": true
   },
   "outputs": [],
   "source": [
    "def hacer_gif(n, titulo = 'calentamiento.gif'):\n",
    "    imagenes = []\n",
    "    nombres = []\n",
    "    for i in range(n):\n",
    "        nombres.append(unicode(str(i)+\".png\"))\n",
    "    for nombre in nombres:\n",
    "        imagenes.append(imageio.imread(nombre))\n",
    "    imageio.mimsave(titulo, imagenes)\n",
    "    \n",
    "hacer_gif(n)"
   ]
  },
  {
   "cell_type": "code",
   "execution_count": null,
   "metadata": {
    "collapsed": true
   },
   "outputs": [],
   "source": []
  }
 ],
 "metadata": {
  "kernelspec": {
   "display_name": "Python 2",
   "language": "python",
   "name": "python2"
  },
  "language_info": {
   "codemirror_mode": {
    "name": "ipython",
    "version": 2
   },
   "file_extension": ".py",
   "mimetype": "text/x-python",
   "name": "python",
   "nbconvert_exporter": "python",
   "pygments_lexer": "ipython2",
   "version": "2.7.13"
  }
 },
 "nbformat": 4,
 "nbformat_minor": 2
}
